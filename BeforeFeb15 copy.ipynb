{
 "cells": [
  {
   "cell_type": "markdown",
   "metadata": {},
   "source": [
    "# CallHome Preprocessing: Step-by-Step\n",
    "\n",
    "This notebook demonstrates a step-by-step pipeline for processing the CallHome English dataset. The pipeline is divided into several cells so that you can inspect outputs after each stage:\n",
    "\n",
    "1. **Dataset Loading & Inspection:** Load the dataset and inspect its structure.\n",
    "2. **Identifying Overlapping Speech:** Define and test a function to detect overlapping speech using annotated timestamps.\n",
    "3. **Extracting Overlapping Speech:** Extract and split overlapping segments longer than 10 seconds.\n",
    "4. **Simulating Overlapping Speech:** Create simulated overlapping segments from non-overlapping parts.\n",
    "5. **Saving Processed Data:** Process the entire dataset and save the preprocessed segments to a file."
   ]
  },
  {
   "cell_type": "code",
   "execution_count": 1,
   "metadata": {},
   "outputs": [
    {
     "name": "stderr",
     "output_type": "stream",
     "text": [
      "/Users/mac/miniforge3/envs/flenv/lib/python3.11/site-packages/tqdm/auto.py:21: TqdmWarning: IProgress not found. Please update jupyter and ipywidgets. See https://ipywidgets.readthedocs.io/en/stable/user_install.html\n",
      "  from .autonotebook import tqdm as notebook_tqdm\n"
     ]
    },
    {
     "name": "stdout",
     "output_type": "stream",
     "text": [
      "Total number of samples in dataset: 140\n",
      "{'audio': {'path': None, 'array': array([-0.00692749,  0.0284729 ,  0.04934692, ..., -0.0005188 ,\n",
      "       -0.00088501, -0.00076294]), 'sampling_rate': 16000}, 'timestamps_start': [0.0, 6.070000000000164, 7.710000000000036, 10.259999999999991, 11.070000000000164, 12.710000000000036, 15.860000000000127, 16.600000000000136, 18.5300000000002, 23.920000000000073, 25.6400000000001, 27.360000000000127, 28.5, 30.470000000000027, 31.710000000000036, 33.340000000000146, 34.0, 37.97000000000003, 41.50999999999999, 42.2800000000002, 42.90000000000009, 43.61000000000013, 43.66000000000008, 45.090000000000146, 46.37000000000012, 46.600000000000136, 50.190000000000055, 53.66000000000008, 55.61000000000013, 60.7800000000002, 62.29000000000019, 62.5, 64.3900000000001, 66.43000000000006, 68.30000000000018, 69.79000000000019, 71.31000000000017, 75.45000000000005, 80.69000000000005, 84.83000000000015, 89.43000000000006, 90.2800000000002, 93.54000000000019, 97.52000000000021, 98.65000000000009, 104.21000000000004, 107.40000000000009, 109.85000000000014, 110.31000000000017, 111.54000000000019, 113.79000000000019, 117.07000000000016, 117.65000000000009, 120.50999999999999, 120.63000000000011, 126.19000000000005, 129.76, 136.2900000000002, 138.37000000000012, 142.56000000000017, 145.33000000000015, 151.20000000000005, 153.85000000000014, 162.10000000000014, 166.6500000000001, 169.23000000000002, 173.41000000000008, 176.20000000000005, 179.35000000000014, 182.08000000000015, 183.5, 185.98000000000002, 187.32000000000016, 189.01, 189.61000000000013, 192.18000000000006, 193.55000000000018, 197.35000000000014, 200.70000000000005, 201.7700000000002, 205.76, 206.70000000000005, 211.98000000000002, 214.7700000000002, 217.7900000000002, 218.36000000000013, 223.17000000000007, 229.35000000000014, 233.07000000000016, 233.98000000000002, 239.26, 244.19000000000005, 245.7800000000002, 247.66000000000008, 250.16000000000008, 256.18000000000006, 256.74, 262.4100000000001, 265.20000000000005, 270.49, 272.51, 273.2700000000002, 275.01, 275.58000000000015, 277.5, 279.0600000000002, 279.19000000000005, 281.0, 281.84000000000015, 286.0400000000002, 289.57000000000016, 291.8900000000001, 293.58000000000015, 297.3600000000001, 300.5], 'timestamps_end': [6.410000000000082, 6.560000000000173, 8.490000000000009, 11.150000000000091, 11.940000000000055, 15.5, 16.310000000000173, 18.350000000000136, 22.940000000000055, 24.77000000000021, 27.12000000000012, 28.25, 30.40000000000009, 31.49000000000001, 32.960000000000036, 33.75, 37.97000000000003, 41.17000000000007, 41.88000000000011, 42.710000000000036, 43.2800000000002, 44.98000000000002, 44.02000000000021, 45.36000000000013, 47.930000000000064, 50.440000000000055, 52.91000000000008, 54.190000000000055, 60.29000000000019, 62.450000000000045, 64.84000000000015, 63.54000000000019, 65.83000000000015, 68.86000000000013, 69.79000000000019, 71.18000000000006, 74.77000000000021, 80.88000000000011, 84.6400000000001, 89.74000000000001, 90.02000000000021, 93.3900000000001, 97.58000000000015, 97.94000000000005, 104.18000000000006, 106.25999999999999, 109.72000000000003, 110.40000000000009, 111.38000000000011, 114.09000000000015, 117.2800000000002, 118.05000000000018, 119.7800000000002, 121.44000000000005, 124.86000000000013, 129.10000000000014, 135.6500000000001, 137.3800000000001, 140.7700000000002, 145.19000000000005, 150.2900000000002, 153.18000000000006, 160.6300000000001, 166.62000000000012, 168.56000000000017, 173.05000000000018, 174.47000000000003, 178.73000000000002, 181.26, 183.47000000000003, 186.12000000000012, 186.92000000000007, 188.2700000000002, 189.86000000000013, 192.19000000000005, 194.2900000000002, 195.82000000000016, 200.2900000000002, 201.06000000000017, 205.72000000000003, 207.08000000000015, 212.0200000000002, 212.97000000000003, 217.60000000000014, 217.99, 223.11000000000013, 228.6300000000001, 233.33000000000015, 233.34000000000015, 238.47000000000003, 243.72000000000003, 245.75, 246.3800000000001, 249.8900000000001, 256.25, 256.5300000000002, 260.49, 265.08000000000015, 269.32000000000016, 272.3700000000001, 273.22, 274.5600000000002, 275.57000000000016, 276.6600000000001, 277.97, 279.5200000000002, 280.47, 281.69000000000005, 284.0, 289.2700000000002, 290.1400000000001, 293.18000000000006, 297.8100000000002, 300.0300000000002, 303.1200000000001], 'speakers': ['A', 'B', 'B', 'B', 'A', 'A', 'B', 'A', 'B', 'B', 'B', 'A', 'B', 'A', 'B', 'A', 'B', 'B', 'A', 'B', 'A', 'A', 'B', 'B', 'A', 'B', 'A', 'A', 'A', 'A', 'B', 'A', 'A', 'B', 'A', 'B', 'A', 'A', 'B', 'A', 'B', 'A', 'A', 'B', 'A', 'A', 'A', 'B', 'A', 'B', 'A', 'B', 'A', 'B', 'A', 'A', 'A', 'A', 'A', 'A', 'A', 'A', 'A', 'A', 'A', 'A', 'A', 'A', 'A', 'B', 'A', 'B', 'A', 'B', 'A', 'B', 'A', 'A', 'B', 'A', 'B', 'A', 'B', 'B', 'A', 'B', 'A', 'A', 'B', 'A', 'A', 'A', 'B', 'A', 'A', 'B', 'A', 'A', 'B', 'A', 'B', 'A', 'B', 'A', 'B', 'B', 'A', 'B', 'A', 'A', 'B', 'B', 'A', 'B', 'B']}\n",
      "First sample keys: ['audio', 'timestamps_start', 'timestamps_end', 'speakers']\n",
      "Annotation features found: ['timestamps_start', 'timestamps_end', 'speakers']\n"
     ]
    }
   ],
   "source": [
    "# Step 1: Load the dataset and inspect a few samples\n",
    "from datasets import load_dataset\n",
    "\n",
    "# Load the CallHome English dataset (assumes each sample has an 'annotations' field)\n",
    "dataset = load_dataset(\"talkbank/callhome\", \"eng\", split=\"data\")\n",
    "\n",
    "print(f\"Total number of samples in dataset: {len(dataset)}\")\n",
    "\n",
    "# Inspect the first sample to see its structure\n",
    "first_sample = dataset[0]\n",
    "print(first_sample)\n",
    "\n",
    "# Print all keys in the first sample\n",
    "print(\"First sample keys:\", list(first_sample.keys()))\n",
    "\n",
    "# Check for the expected annotation features\n",
    "expected_features = [\"timestamps_start\", \"timestamps_end\", \"speakers\"]\n",
    "present_features = [key for key in expected_features if key in first_sample]\n",
    "if present_features:\n",
    "    print(\"Annotation features found:\", present_features)\n",
    "else:\n",
    "    print(\"No expected annotation features found in the first sample.\")\n"
   ]
  },
  {
   "cell_type": "markdown",
   "metadata": {},
   "source": [
    "## Step 2: Define Overlapping Speech Extraction Function\n",
    "\n",
    "This function iterates through the annotations in a sample and identifies overlapping speech segments using the `timestamp_start` and `timestamp_end` fields. If a segment lasts longer than 10 seconds, it is split into smaller segments."
   ]
  },
  {
   "cell_type": "code",
   "execution_count": 2,
   "metadata": {},
   "outputs": [],
   "source": [
    "import math\n",
    "def extract_overlapping_segments(sample, sample_index, max_segment_length=10.0):\n",
    "    overlapping_segments = []\n",
    "    if not all(key in sample for key in ['timestamps_start', 'timestamps_end', 'speakers']):\n",
    "        return overlapping_segments\n",
    "\n",
    "    # Create a list of annotation dictionaries from the parallel lists\n",
    "    annotations = []\n",
    "    for start, end, speaker in zip(sample['timestamps_start'], sample['timestamps_end'], sample['speakers']):\n",
    "        annotations.append({\n",
    "            \"timestamp_start\": start,\n",
    "            \"timestamp_end\": end,\n",
    "            \"speaker\": speaker\n",
    "        })\n",
    "\n",
    "    # Sort annotations by start time\n",
    "    annotations = sorted(annotations, key=lambda ann: ann[\"timestamp_start\"])\n",
    "    n = len(annotations)\n",
    "\n",
    "    # Iterate over each pair to detect overlapping segments\n",
    "    for i in range(n):\n",
    "        for j in range(i + 1, n):\n",
    "            ann1 = annotations[i]\n",
    "            ann2 = annotations[j]\n",
    "            if ann2[\"timestamp_start\"] < ann1[\"timestamp_end\"]:\n",
    "                overlap_start = max(ann1[\"timestamp_start\"], ann2[\"timestamp_start\"])\n",
    "                overlap_end = min(ann1[\"timestamp_end\"], ann2[\"timestamp_end\"])\n",
    "                duration = overlap_end - overlap_start\n",
    "                if duration > 0:\n",
    "                    if duration > max_segment_length:\n",
    "                        num_subsegments = math.ceil(duration / max_segment_length)\n",
    "                        subsegment_duration = duration / num_subsegments\n",
    "                        for k in range(num_subsegments):\n",
    "                            sub_start = overlap_start + k * subsegment_duration\n",
    "                            sub_end = sub_start + subsegment_duration\n",
    "                            overlapping_segments.append({\n",
    "                                \"timestamp_start\": sub_start,\n",
    "                                \"timestamp_end\": sub_end,\n",
    "                                \"speakers\": [ann1[\"speaker\"], ann2[\"speaker\"]],\n",
    "                                \"source\": sample_index,  # store sample index here\n",
    "                                \"type\": \"extracted\"\n",
    "                            })\n",
    "                    else:\n",
    "                        overlapping_segments.append({\n",
    "                            \"timestamp_start\": overlap_start,\n",
    "                            \"timestamp_end\": overlap_end,\n",
    "                            \"speakers\": [ann1[\"speaker\"], ann2[\"speaker\"]],\n",
    "                            \"source\": sample_index,  # store sample index here\n",
    "                            \"type\": \"extracted\"\n",
    "                        })\n",
    "    return overlapping_segments\n"
   ]
  },
  {
   "cell_type": "code",
   "execution_count": 3,
   "metadata": {},
   "outputs": [
    {
     "name": "stdout",
     "output_type": "stream",
     "text": [
      "Extracted overlapping segments in first sample: 27\n",
      "[{'timestamp_start': 6.070000000000164, 'timestamp_end': 6.410000000000082, 'speakers': ['A', 'B'], 'source': 0, 'type': 'extracted'}, {'timestamp_start': 11.070000000000164, 'timestamp_end': 11.150000000000091, 'speakers': ['B', 'A'], 'source': 0, 'type': 'extracted'}, {'timestamp_start': 43.66000000000008, 'timestamp_end': 44.02000000000021, 'speakers': ['A', 'B'], 'source': 0, 'type': 'extracted'}, {'timestamp_start': 46.600000000000136, 'timestamp_end': 47.930000000000064, 'speakers': ['A', 'B'], 'source': 0, 'type': 'extracted'}, {'timestamp_start': 50.190000000000055, 'timestamp_end': 50.440000000000055, 'speakers': ['B', 'A'], 'source': 0, 'type': 'extracted'}, {'timestamp_start': 62.29000000000019, 'timestamp_end': 62.450000000000045, 'speakers': ['A', 'B'], 'source': 0, 'type': 'extracted'}, {'timestamp_start': 62.5, 'timestamp_end': 63.54000000000019, 'speakers': ['B', 'A'], 'source': 0, 'type': 'extracted'}, {'timestamp_start': 64.3900000000001, 'timestamp_end': 64.84000000000015, 'speakers': ['B', 'A'], 'source': 0, 'type': 'extracted'}, {'timestamp_start': 68.30000000000018, 'timestamp_end': 68.86000000000013, 'speakers': ['B', 'A'], 'source': 0, 'type': 'extracted'}, {'timestamp_start': 80.69000000000005, 'timestamp_end': 80.88000000000011, 'speakers': ['A', 'B'], 'source': 0, 'type': 'extracted'}, {'timestamp_start': 89.43000000000006, 'timestamp_end': 89.74000000000001, 'speakers': ['A', 'B'], 'source': 0, 'type': 'extracted'}, {'timestamp_start': 97.52000000000021, 'timestamp_end': 97.58000000000015, 'speakers': ['A', 'B'], 'source': 0, 'type': 'extracted'}, {'timestamp_start': 110.31000000000017, 'timestamp_end': 110.40000000000009, 'speakers': ['B', 'A'], 'source': 0, 'type': 'extracted'}, {'timestamp_start': 113.79000000000019, 'timestamp_end': 114.09000000000015, 'speakers': ['B', 'A'], 'source': 0, 'type': 'extracted'}, {'timestamp_start': 117.07000000000016, 'timestamp_end': 117.2800000000002, 'speakers': ['A', 'B'], 'source': 0, 'type': 'extracted'}, {'timestamp_start': 117.65000000000009, 'timestamp_end': 118.05000000000018, 'speakers': ['B', 'A'], 'source': 0, 'type': 'extracted'}, {'timestamp_start': 120.63000000000011, 'timestamp_end': 121.44000000000005, 'speakers': ['B', 'A'], 'source': 0, 'type': 'extracted'}, {'timestamp_start': 185.98000000000002, 'timestamp_end': 186.12000000000012, 'speakers': ['A', 'B'], 'source': 0, 'type': 'extracted'}, {'timestamp_start': 189.61000000000013, 'timestamp_end': 189.86000000000013, 'speakers': ['B', 'A'], 'source': 0, 'type': 'extracted'}, {'timestamp_start': 192.18000000000006, 'timestamp_end': 192.19000000000005, 'speakers': ['A', 'B'], 'source': 0, 'type': 'extracted'}, {'timestamp_start': 193.55000000000018, 'timestamp_end': 194.2900000000002, 'speakers': ['B', 'A'], 'source': 0, 'type': 'extracted'}, {'timestamp_start': 206.70000000000005, 'timestamp_end': 207.08000000000015, 'speakers': ['B', 'A'], 'source': 0, 'type': 'extracted'}, {'timestamp_start': 211.98000000000002, 'timestamp_end': 212.0200000000002, 'speakers': ['A', 'B'], 'source': 0, 'type': 'extracted'}, {'timestamp_start': 233.07000000000016, 'timestamp_end': 233.33000000000015, 'speakers': ['A', 'B'], 'source': 0, 'type': 'extracted'}, {'timestamp_start': 256.18000000000006, 'timestamp_end': 256.25, 'speakers': ['A', 'B'], 'source': 0, 'type': 'extracted'}, {'timestamp_start': 279.19000000000005, 'timestamp_end': 279.5200000000002, 'speakers': ['B', 'A'], 'source': 0, 'type': 'extracted'}, {'timestamp_start': 297.3600000000001, 'timestamp_end': 297.8100000000002, 'speakers': ['A', 'B'], 'source': 0, 'type': 'extracted'}]\n"
     ]
    }
   ],
   "source": [
    "extracted_test = extract_overlapping_segments(first_sample,0)\n",
    "print(f\"Extracted overlapping segments in first sample: {len(extracted_test)}\")\n",
    "print(extracted_test)"
   ]
  },
  {
   "cell_type": "markdown",
   "metadata": {},
   "source": [
    "## Step 3: Define Simulated Overlapping Speech Function\n",
    "\n",
    "This function simulates overlapping speech by merging segments from different speakers. It selects segments from each speaker, creates a simulated overlap (with duration between 5 and 10 seconds), and resets the timestamp to start at 0 while preserving speaker order."
   ]
  },
  {
   "cell_type": "code",
   "execution_count": 4,
   "metadata": {},
   "outputs": [
    {
     "name": "stdout",
     "output_type": "stream",
     "text": [
      "Simulated overlapping segments in first sample: 1\n",
      "[{'timestamp_start': 0.0, 'timestamp_end': 9.362687820780735, 'speakers': ['A', 'B'], 'source_segments': [{'timestamp_start': 223.17000000000007, 'timestamp_end': 228.6300000000001, 'speaker': 'A'}, {'timestamp_start': 211.98000000000002, 'timestamp_end': 212.97000000000003, 'speaker': 'B'}], 'type': 'simulated'}]\n"
     ]
    }
   ],
   "source": [
    "import random\n",
    "from collections import defaultdict\n",
    "\n",
    "def simulate_overlapping_speech(sample, segment_length_range=(5, 10)):\n",
    "    \"\"\"\n",
    "    Simulate artificial overlapping speech by merging segments from different speakers.\n",
    "    The simulated segment will have a duration randomly chosen between the values in segment_length_range.\n",
    "    \n",
    "    Adjusts the annotations so that the simulated audio is considered to start at 0 while preserving speaker order.\n",
    "    \n",
    "    Assumes that the sample has the following keys:\n",
    "      - 'timestamps_start': a list of start times\n",
    "      - 'timestamps_end': a list of end times\n",
    "      - 'speakers': a list of speaker labels corresponding to each segment\n",
    "    \"\"\"\n",
    "    simulated_segments = []\n",
    "    # Check that all required keys exist\n",
    "    if not all(key in sample for key in ['timestamps_start', 'timestamps_end', 'speakers']):\n",
    "        return simulated_segments\n",
    "\n",
    "    # Build annotation dictionaries from the parallel lists\n",
    "    annotations = []\n",
    "    for start, end, speaker in zip(sample['timestamps_start'], sample['timestamps_end'], sample['speakers']):\n",
    "        annotations.append({\n",
    "            \"timestamp_start\": start,\n",
    "            \"timestamp_end\": end,\n",
    "            \"speaker\": speaker\n",
    "        })\n",
    "\n",
    "    # Group annotations by speaker\n",
    "    segments_by_speaker = defaultdict(list)\n",
    "    for ann in annotations:\n",
    "        segments_by_speaker[ann[\"speaker\"]].append(ann)\n",
    "\n",
    "    speakers = list(segments_by_speaker.keys())\n",
    "    # Need at least two speakers for simulating overlapping speech\n",
    "    if len(speakers) < 2:\n",
    "        return simulated_segments\n",
    "\n",
    "    # Arbitrarily pair segments from different speakers to simulate overlap\n",
    "    for i in range(len(speakers)):\n",
    "        for j in range(i + 1, len(speakers)):\n",
    "            seg1 = random.choice(segments_by_speaker[speakers[i]])\n",
    "            seg2 = random.choice(segments_by_speaker[speakers[j]])\n",
    "            # Choose a random duration between the given range\n",
    "            duration = random.uniform(segment_length_range[0], segment_length_range[1])\n",
    "            simulated_segments.append({\n",
    "                \"timestamp_start\": 0.0,  # Reset start time for simulated segment\n",
    "                \"timestamp_end\": duration,\n",
    "                \"speakers\": [speakers[i], speakers[j]],\n",
    "                \"source_segments\": [seg1, seg2],\n",
    "                \"type\": \"simulated\"\n",
    "            })\n",
    "    return simulated_segments\n",
    "\n",
    "# Example test on a sample:\n",
    "# Assuming `first_sample` is already defined (e.g., from your dataset)\n",
    "simulated_test = simulate_overlapping_speech(first_sample, segment_length_range=(5, 10))\n",
    "print(f\"Simulated overlapping segments in first sample: {len(simulated_test)}\")\n",
    "print(simulated_test)\n"
   ]
  },
  {
   "cell_type": "markdown",
   "metadata": {},
   "source": [
    "## Step 4: Process the Entire Dataset\n",
    "\n",
    "Now, we apply the extraction and simulation functions to every sample in the dataset. You can inspect the total number of extracted and simulated segments."
   ]
  },
  {
   "cell_type": "code",
   "execution_count": 5,
   "metadata": {},
   "outputs": [
    {
     "name": "stdout",
     "output_type": "stream",
     "text": [
      "Total extracted overlapping segments: 13358\n",
      "Total simulated overlapping segments: 170\n"
     ]
    }
   ],
   "source": [
    "all_extracted = []\n",
    "all_simulated = []\n",
    "\n",
    "# Process each sample in the dataset\n",
    "for i, sample in enumerate(dataset):\n",
    "    # Extract overlapping segments, passing the sample index for a valid \"source\" identifier\n",
    "    extracted = extract_overlapping_segments(sample, sample_index=i, max_segment_length=10.0)\n",
    "    # Simulate overlapping speech segments\n",
    "    simulated = simulate_overlapping_speech(sample, segment_length_range=(5, 10))\n",
    "    \n",
    "    all_extracted.extend(extracted)\n",
    "    all_simulated.extend(simulated)\n",
    "\n",
    "print(f\"Total extracted overlapping segments: {len(all_extracted)}\")\n",
    "print(f\"Total simulated overlapping segments: {len(all_simulated)}\")\n"
   ]
  },
  {
   "cell_type": "code",
   "execution_count": null,
   "metadata": {},
   "outputs": [],
   "source": [
    "all_simulated"
   ]
  },
  {
   "cell_type": "markdown",
   "metadata": {},
   "source": [
    "## Step 5: Save the Preprocessed Data\n",
    "\n",
    "Finally, we store the preprocessed overlapping segments (both extracted and simulated) to a file so that you can use them later."
   ]
  },
  {
   "cell_type": "code",
   "execution_count": 30,
   "metadata": {},
   "outputs": [
    {
     "name": "stdout",
     "output_type": "stream",
     "text": [
      "Preprocessed data saved to 'preprocessed_callhome_data.pkl'\n"
     ]
    }
   ],
   "source": [
    "import pickle\n",
    "\n",
    "preprocessed_data = {\n",
    "    \"extracted_segments\": all_extracted,\n",
    "    \"simulated_segments\": all_simulated\n",
    "}\n",
    "\n",
    "with open(\"preprocessed_callhome_data.pkl\", \"wb\") as f:\n",
    "    pickle.dump(preprocessed_data, f)\n",
    "\n",
    "print(\"Preprocessed data saved to 'preprocessed_callhome_data.pkl'\")"
   ]
  },
  {
   "cell_type": "code",
   "execution_count": null,
   "metadata": {},
   "outputs": [],
   "source": []
  }
 ],
 "metadata": {
  "kernelspec": {
   "display_name": "flenv",
   "language": "python",
   "name": "python3"
  },
  "language_info": {
   "codemirror_mode": {
    "name": "ipython",
    "version": 3
   },
   "file_extension": ".py",
   "mimetype": "text/x-python",
   "name": "python",
   "nbconvert_exporter": "python",
   "pygments_lexer": "ipython3",
   "version": "3.11.11"
  }
 },
 "nbformat": 4,
 "nbformat_minor": 2
}
